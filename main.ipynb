{
 "cells": [
  {
   "cell_type": "code",
   "execution_count": 2,
   "id": "dfe09436",
   "metadata": {},
   "outputs": [
    {
     "name": "stderr",
     "output_type": "stream",
     "text": [
      "USER_AGENT environment variable not set, consider setting it to identify your requests.\n"
     ]
    }
   ],
   "source": [
    "import os\n",
    "from dotenv import load_dotenv\n",
    "from langchain_core.prompts import PromptTemplate\n",
    "from langchain_openai import ChatOpenAI\n",
    "from langchain_community.document_loaders import WebBaseLoader\n",
    "from langchain_text_splitters import RecursiveCharacterTextSplitter\n",
    "from langchain_core.output_parsers import StrOutputParser\n",
    "from langchain_core.runnables import RunnablePassthrough\n",
    "from typing import List, Dict, Any, Tuple"
   ]
  },
  {
   "cell_type": "code",
   "execution_count": 2,
   "id": "fc6d6595",
   "metadata": {},
   "outputs": [],
   "source": [
    "load_dotenv()\n",
    "\n",
    "class NewsSummarizer:\n",
    "    \"\"\"Core class for loading and summarizing news articles\"\"\"\n",
    "    \n",
    "    def __init__(self, model_name=\"gpt-3.5-turbo-16k\", temperature=0.5):\n",
    "        \"\"\"Initialize the news summarizer with specified model parameters\"\"\"\n",
    "        self.llm = ChatOpenAI(\n",
    "            model=model_name,\n",
    "            temperature=temperature\n",
    "        )\n",
    "        self.text_splitter = RecursiveCharacterTextSplitter(\n",
    "            chunk_size=1000,\n",
    "            chunk_overlap=200\n",
    "        )\n",
    "    \n",
    "    def load_articles(self, urls: List[str]) -> Tuple[List[Dict], List[str]]:\n",
    "        \"\"\"\n",
    "        Load and process content from multiple URLs\n",
    "        \n",
    "        Args:\n",
    "            urls: List of URLs to process\n",
    "            \n",
    "        Returns:\n",
    "            Tuple containing list of document splits and list of error messages\n",
    "        \"\"\"\n",
    "        all_docs = []\n",
    "        errors = []\n",
    "        \n",
    "        for url in urls:\n",
    "            if url.strip():  # Skip empty URLs\n",
    "                try:\n",
    "                    loader = WebBaseLoader(url)\n",
    "                    docs = loader.load()\n",
    "                    # Add source metadata\n",
    "                    for doc in docs:\n",
    "                        doc.metadata[\"source\"] = url\n",
    "                    all_docs.extend(docs)\n",
    "                except Exception as e:\n",
    "                    errors.append(f\"Error loading {url}: {str(e)}\")\n",
    "        \n",
    "        # Split documents into chunks if documents were loaded\n",
    "        if all_docs:\n",
    "            splits = self.text_splitter.split_documents(all_docs)\n",
    "            return splits, errors\n",
    "        else:\n",
    "            return [], errors\n",
    "    \n",
    "    def create_summary_chain(self):\n",
    "        \"\"\"Create the LangChain chain for summarizing news articles\"\"\"\n",
    "        # Create the summary template\n",
    "        summary_template = \"\"\"\n",
    "        You are a professional news editor and journalist. Your task is to create a consolidated news article based on the following sources.\n",
    "        \n",
    "        SOURCES:\n",
    "        {context}\n",
    "        \n",
    "        Follow these guidelines to create a proper news article:\n",
    "        1. Write in the inverted pyramid structure with the most important information at the beginning\n",
    "        2. Include a compelling headline\n",
    "        3. Add a byline as \"AI News Summarizer\"\n",
    "        4. Start with a strong lead paragraph covering the 5W1H (who, what, when, where, why, how)\n",
    "        5. Follow with supporting details and background information\n",
    "        6. End with a conclusion that provides context or future implications\n",
    "        7. Maintain an objective, journalistic tone\n",
    "        8. Include any significant quotes from the original articles\n",
    "        9. Synthesize information from all sources to provide a comprehensive view\n",
    "        10. Format the output in markdown\n",
    "        \n",
    "        CONSOLIDATED NEWS ARTICLE:\n",
    "        \"\"\"\n",
    "        \n",
    "        # Create prompt from template\n",
    "        prompt = PromptTemplate.from_template(summary_template)\n",
    "        \n",
    "        # Create chain\n",
    "        chain = (\n",
    "            {\"context\": lambda docs: \"\\n\\n\".join([doc.page_content for doc in docs])}\n",
    "            | prompt\n",
    "            | self.llm\n",
    "            | StrOutputParser()\n",
    "        )\n",
    "        \n",
    "        return chain\n",
    "    \n",
    "    def summarize(self, urls: List[str]) -> Dict[str, Any]:\n",
    "        \"\"\"\n",
    "        Generate a news summary from the provided URLs\n",
    "        \n",
    "        Args:\n",
    "            urls: List of URLs to news articles\n",
    "            \n",
    "        Returns:\n",
    "            Dictionary with summary and errors\n",
    "        \"\"\"\n",
    "        result = {\n",
    "            \"summary\": None,\n",
    "            \"errors\": []\n",
    "        }\n",
    "        \n",
    "        # Load and process documents\n",
    "        docs, errors = self.load_articles(urls)\n",
    "        result[\"errors\"] = errors\n",
    "        \n",
    "        if docs:\n",
    "            try:\n",
    "                # Create and run the chain\n",
    "                chain = self.create_summary_chain()\n",
    "                summary = chain.invoke(docs)\n",
    "                result[\"summary\"] = summary\n",
    "            except Exception as e:\n",
    "                result[\"errors\"].append(f\"Summarization error: {str(e)}\")\n",
    "        \n",
    "        return result"
   ]
  },
  {
   "cell_type": "code",
   "execution_count": 7,
   "id": "19dfe1ae",
   "metadata": {},
   "outputs": [
    {
     "name": "stdout",
     "output_type": "stream",
     "text": [
      "# Sixteen Dead After Tornadoes Tear Through US States\n",
      "\n",
      "**AI News Summarizer**\n",
      "\n",
      "At least 16 people have been reported dead after tornadoes tore through parts of Kentucky and Missouri. The tornado in Kentucky struck in Laurel County, with officials expecting the death toll to rise. In Missouri, 5,000 buildings were damaged, roofs destroyed, and power lines knocked down as a tornado hit St Louis. The National Weather Service reported tornadoes in neighbouring Illinois as well, with severe weather conditions stretching to the Atlantic coast.\n",
      "\n",
      "St Louis Mayor Cara Spencer described the loss of life and destruction as \"truly horrendous,\" emphasizing the need for community support and safety measures. A curfew was imposed in the most affected areas to prevent injuries and looting.\n",
      "\n",
      "The US National Weather Service highlighted the widespread impact of the severe weather, with additional tornadoes hitting Illinois and weather conditions extending to the Atlantic coast.\n",
      "\n",
      "---\n",
      "\n",
      "# Trump's Frantic Week of Peace Brokering Reveals Emerging Foreign Policy\n",
      "\n",
      "**AI News Summarizer**\n",
      "\n",
      "US President Donald Trump's recent flurry of diplomatic activity has left allies and opponents struggling to keep up. From brokering peace deals in the Middle East to negotiating with Russia and China, Trump's actions suggest a shift towards a mercantilist foreign policy focused on trade and business deals.\n",
      "\n",
      "While Trump's approach may seem impulsive and inconsistent at times, it reflects a desire to prioritize American interests and focus on resolving conflicts through economic means. The centralization of foreign policy decisions in Trump's hands has led to bold and decisive actions, such as lifting sanctions on Syria and engaging in talks with Iran.\n",
      "\n",
      "Despite the pace of Trump's diplomatic efforts, the underlying challenges in conflicts like the Israel-Gaza war and the Ukraine-Russia tensions remain unresolved. The true test of Trump's foreign policy will be in balancing economic interests with long-term diplomatic solutions.\n",
      "\n",
      "---\n",
      "\n",
      "By following the inverted pyramid structure and incorporating key details from the sources, the consolidated news article provides a comprehensive overview of the recent events.\n"
     ]
    }
   ],
   "source": [
    "news = [\"https://www.bbc.com/news/articles/clyv789ejgxo\", \"https://www.bbc.com/news/articles/c04ezlyq4y0o\",\"https://www.bbc.com/news/articles/c70nw7v5ykyo\"]\n",
    "\n",
    "summarizer = NewsSummarizer()\n",
    "print(summarizer.summarize(news)[\"summary\"])"
   ]
  },
  {
   "cell_type": "code",
   "execution_count": 4,
   "id": "e2185c17",
   "metadata": {},
   "outputs": [
    {
     "data": {
      "text/plain": [
       "[Document(metadata={'source': 'https://www.bbc.com/travel/article/20250516-monacos-new-neighbourhood-rising-out-of-the-sea', 'title': \"Monaco's new €2bn neighbourhood rising out of the sea\", 'description': \"Built on reclaimed land, Monaco's new Mareterra district blends cutting-edge sustainability with scenic sea views, offering a fresh way to explore the principality.\", 'language': 'en-GB'}, page_content='Monaco\\'s new €2bn neighbourhood rising out of the seaSkip to contentBritish Broadcasting CorporationHomeNewsSportBusinessInnovationCultureArtsTravelEarthAudioVideoLiveHomeNewsIsrael-Gaza WarWar in UkraineUS & CanadaUKUK PoliticsEnglandN. IrelandN. Ireland PoliticsScotlandScotland PoliticsWalesWales PoliticsAfricaAsiaChinaIndiaAustraliaEuropeLatin AmericaMiddle EastIn PicturesBBC InDepthBBC VerifySportBusinessExecutive LoungeTechnology of BusinessFuture of BusinessInnovationTechnologyScience & HealthArtificial IntelligenceAI v the MindCultureFilm & TVMusicArt & DesignStyleBooksEntertainment NewsArtsArts in MotionTravelDestinationsAfricaAntarcticaAsiaAustralia and PacificCaribbean & BermudaCentral AmericaEuropeMiddle EastNorth AmericaSouth AmericaWorld’s TableCulture & ExperiencesAdventuresThe SpeciaListEarthNatural WondersWeather & ScienceClimate SolutionsSustainable BusinessGreen LivingAudioPodcastsRadioAudio FAQsVideoLiveLive NewsLive SportHomeNewsSportBusinessInnovationCultureArtsTravelEarthAudioVideoLiveWeatherNewslettersMonaco\\'s new €2bn neighbourhood rising out of the sea3 hours agoShareSaveChrissie McClatchieShareSaveGetty ImagesBuilt on reclaimed land, Monaco\\'s new Mareterra district blends cutting-edge sustainability with scenic sea views, offering a fresh way to explore the principality.It was just past noon in Mareterra, Monaco\\'s newest neighbourhood, and a crowd swelled on the terrace outside Marlow, the principality\\'s first British fine-dining restaurant. Nearby, office workers stretched out on wide steps by the water for their lunch break. Promenade Prince Jacques, the 800m pedestrian walkway that sweeps around the sea-facing perimeter of Mareterra, was busy with parents pushing strollers and joggers pounding the concrete pavement. I paused to soak up the view across the expanse of blue sea towards the leafy Roquebrune-Cap-Martin headland and Italy beyond. The area blended so seamlessly with the surrounding landscape that I struggled to remember how, six months ago, this was still an unfinished construction site – and that eight years ago, where I stood was the Mediterranean Sea.This reclaimed district, a €2bn project unveiled in December 2024, is Monaco\\'s latest answer to a question it has faced for more than 150 years: how do you expand when you\\'ve already run out of land?\\xa0I walked along the promenade and ducked through a door along the path, entering a dark, concrete antechamber. Another door led through to the hollowed interior of one of 18 caissons, the 10,000 ton, 26m-high chambers that sit side by side like giant Lego bricks on the seafloor to create the maritime infrastructure of the new neighbourhood.In the dark, unlit space, it took a while for my eyes to catch up to what my ears immediately recognised: waves, crashing against a wall then flopping back onto the water\\'s surface. I peered over a thick railing separating me from the drop into the sea below. The Mediterranean surged up as if reaching for my attention, while the reinforced concrete chamber remained silent and immobile as it soaked up the impact of the swell.Hufton+CrowLa Grotte Bleue reveals the technical prowess behind Monaco\\'s new eco-district (Credit: Hufton+Crow)The top of the upper section of each caisson, which is known as the Jarlan chamber, is above the waterline to allow water to flow in and out through thin, vertical openings on the outward-facing side. The design has been engineered to act as a breakwater to absorb and disperse the energy of the waves.\"That means, even during 100-year storms, they won\\'t rise too high nor submerge [Mareterra],\" said Guy Thomas Levy-Soussan, the managing director of SAM L\\'Anse du Portier, the developers of Mareterra, as we stood in La Grotte Bleue, as this space is called, named after the Blue Grotto of Capri. \"When the Sun shines through the openings in the Jarlan chamber in the morning, there\\'s a slightly blue hue to the space,\" he said, explaining the choice of name.Green GetawaysGreen Getaways\\xa0is a BBC Travel series that helps travellers experience a greener, cleaner approach to getting out and seeing the world.La Grotte Bleue doesn\\'t sparkle under the weight of four walls adorned in pastel pink and lavender purple quartz like\\xa0its Instagram-pretty neighbour\\xa0a couple of doors down, a meditation room for quiet contemplationdesigned by Vietnamese artist Tia-Thủy Nguyễn. And I probably would feel a little uneasy being in the dark space alone. Yet it has quickly become one of the Mediterranean principality\\'s most unusual, and least glossy, landmarks, attracting a steady flow of people like me, curious for a behind-the-scenes glimpse of the technical ingenuity involved in reclaiming land from the sea.Land reclamation is nothing new in Monaco, the world\\'s second-smallest country after the Vatican City, where 38,000 residents cram into a territory just more than 22sq km in size. While a high proportion of that figure are millionaires, they\\'re still living in the most\\xa0densely populated country in the world.Hemmed in by France, Monaco\\'s default solution to its space issue is to extend out into the water. Since 1907, 25% of Monaco\\'s territory has been reclaimed, including the principality\\'s beachfront,\\xa0Larvotto, the superyacht-lined Port Hercules and the\\xa0Fontvieille\\xa0district to the west of the Prince\\'s Palace of Monaco.Chrissie McClatchieA quarter of Monaco is built on reclaimed land, including beachfront Larvotto and the new Mareterra district (Credit: Chrissie McClatchie)If Prince Rainier III, who came to power in 1949, carved out a reputation as \"the builder prince\", his son and current sovereign, Prince Albert II, is continuing the tradition. It was in 2013 when he announced plans to reclaim these six hectares just off the coast near Larvotto at Monaco\\'s eastern extent, later naming it Mareterra to reflect its connection to the sea and the land. The neighbourhood has increased the principality\\'s territory by 3% and comprises two residential apartment blocks (including one designed by celebrated Italian architect Renzo Piano), 10 villas and four townhouses, a small marina, 14 commercial spaces and three hectares of public space.Plan your trip:When to go:\\xa0May (and, as of 2026, early June) if you\\'re motorsport mad, otherwise anytime but then. Visit in late June and early September, before the Monaco Yacht Show, for hot days without the crowds.Where to stay:\\xa0Opening just in time for the 2025 Monaco Grand Prix after a major renovation,\\xa0Hotel Metropole\\xa0has a prime position across from the Casino de Monte-Carlo. Upgrades will include a new spa by Guerlain and newly redesigned rooms, the first major facelift to the accommodation since the property opened in 2004.Where to eat:\\xa0Marlow\\xa0on Place Princesse Gabriella for British fine dining;\\xa0Sexy Tacos\\xa0on Plage Larvotto for fiery Mexican cuisine. Across the road from the Grimaldi Forum,\\xa0Sass Café\\xa0is the principality\\'s classic late-night address.Mareterra fits like the missing piece of a puzzle into this stretch of Monaco\\'s coastline. It is latched alongside the Grimaldi Forum, an event space that often hosts travelling art exhibitions and stage shows, and the Japanese Garden, planted in 1994 with Mediterranean pines, pomegranate and olive trees in accordance with Zen design principles. Both sites have been able to grow in size thanks to the extension.\\xa0In line with the Prince\\'s commitment to make the principality carbon neutral by 2050, Mareterra has also been imagined as Monaco\\'s greenest corner. Nine thousand square metres of solar panels, 200 EV charging stations and 800 trees are among the eco-friendly initiatives in the district.\\xa0Just inside the entrance to La Grotte Bleue, a five-minute long\\xa0video plays on a loop, an introduction to how the project addressed the inevitable marine disruption that comes with such construction. The caissons hold a key role here, as well; reliefs and grooves were moulded into their construction to encourage marine flora and fauna colonisation. Segments were even sanded by hand to add texture. The Jarlan chambers have an additional bonus, recreating shallow areas where fish can dart in and out.Chrissie McClatchieVisitors can stop for lunch at Marlow, the principality\\'s first British fine-dining restaurant (Credit: Chrissie McClatchie)The most delicate of challenges, however, involved transplanting 384sq m of Posidonia oceanica, an endemic seagrass that plays a critical role in the Mediterranean ecosystem and is protected by EU legislation. A pioneering technique used a modified tree spade to scoop Posidonia sods into baskets which could then be replanted 200m away in the Larvotto Marine Protected Area. \"Usually we transport Posidonia plants one by one,\" explained Sylvie Gobert, an oceanologist at the University of Liège in Belgium who worked on the project. \"What is ultimately innovative is that we took the Posidonia, along with its entire root ecosystem and about a cubic metre of sediment.\"More like this:• Nordhavn: The Danish \\'city\\' that\\'s been designed for an easy life•\\xa08 ways to travel more sustainably in 2025• Japan\\'s car-free town that autumn hikers loveIf the Posidonia has ultimately settled into its new home, so has Monaco into Mareterra. As I surveyed the area, I realised how quickly the soft blues and greys of Le Renzo, Piano\\'s striking residential block that stands sentinel over the neighbourhood, has become a familiar part of the local landscape. Nearby, Quatre Lances, a sculpture by American artist Alexander Calder that was purchased by Prince Albert\\'s mother, Grace Kelly, in the 1960s and had been languishing in storage, has become a meeting point where people gravitate. A small nature walk, La Pinède, winds through a rocky garden planted with Aleppo and umbrella pines, the same species you would find if you were hiking through the Provence countryside. A water source gently trickled past birds\\' nests and insect hotels installed amid the Mediterranean shrub. These aren\\'t the glossy attractions that Monaco is renowned for, like the gilded Casino de Monte-Carlo. It\\'s an area that has been designed for locals, with only a handful of shops and restaurants, although visitors come to enjoy the peaceful gardens, sea views and the ingenuity of how Mareterra came to be.\\xa0Despite its ecological ambitions, Mareterra raises questions about necessity. Though billed as Monaco\\'s answer to its housing challenges, property prices are speculated to start from €100,000 per square metre, making it some of the most expensive real estate in the world. Plus, none of the new residences have been reserved for Monegasques, who number nearly 10,000 and have a right to subsidised housing.Hufton+CrowThe district is dominated by Le Renzo, a residential development designed by celebrated architect Renzo Pian (Credit: Hufton+Crow)However, those in Monaco are sure that Mareterra isn\\'t the end of its growth story. \"For Prince Albert, if there isn\\'t construction, the country is at a standstill,\" said Nancy Heslin, co-founder of Carob Tree Publishing, Monaco\\'s first all-female publishing house, who has interviewed the Prince on various occasions. \"The country will always seek to continue to expand its territory.\"\"As long as it [has] the desire – and budget – to push the boundaries of what is possible on both a technological and ecological scale, the principality will be an example for other coastal cities to follow. As a laboratory for this kind of innovation,\" said Levy-Soussan, \"Monaco is a small country that has done extraordinary things.\"--If you liked this story, sign up for The Essential List newsletter – a handpicked selection of features, videos and can\\'t-miss news, delivered to your inbox twice a week.\\xa0For more Travel stories from the BBC, follow us on\\xa0Facebook,\\xa0X\\xa0and\\xa0Instagram.\\xa0Green GetawaysCityFeaturesWatchWeek in Markets - 16 May 2025A weekly summary of the big stories from financial markets around the world.23 hrs agoWorld of BusinessInside the hidden quarters of history\\'s greatest seducerFrom an alchemical pharmacy to a shadowy dungeon, uncover the many secrets of Casanova\\'s mysterious world.1 day agoThe SpeciaListIndia’s electric car futureTesla is rolling out in India, Asia’s third largest economy where EV sales grew 2000% over five years.2 days agoWorld of BusinessEight simple steps to help you live longerWe look at eight simple lifestyle steps you can take to help improve and extend your life.2 days agoHealth DecodedChinese factories go into overdrive after tariff pauseThe tariff pause has provided a bit of reprieve for some factories in China.3 days agoWorld of BusinessThe 24-year-old founder taking on nuclear fusionWe go inside the lab and reveal how JC Btaiche convinced former Pentagon officials to come join his project.3 days agoTech NowWatch dramatic moment monkey family defends baby from pythonLeaf monkeys are close-knit family groups that work closely to protect themselves and newborns.4 days agoNatural wondersHailee Steinfeld\\'s funniest moments on setSharing the screen with Michael B Jordan, Woody Harrelson or Rebel Wilson comes lots of laughter.5 days agoFilm & TVSinfonía por el Perú: Changing lives through musicWhat if a single note could change a life? That\\'s exactly what\\'s happening at Sinfonía por el Perú.5 days agoArts in MotionThe Selma march that changed the course of historyReece Parkinson travels through America\\'s Deep South to discover how the civil rights movement is remembered.5 days agoCulture & ExperiencesWatch langurs\\' daring crossings over busy roadwayA new monkey bridge in Malaysia provides hope for wildlife navigating fragmented habitats.9 May 2025Natural wondersMarkets welcome US-UK trade agreementWealth management expert says financial markets will be relieved the US is striking deals with trading partners.8 May 2025Opening BellThe town where deer roam free (and mostly peacefully)Watch as this long-standing coexistence faces disruption each autumn as male deer compete for mates.8 May 2025Natural wondersPope Joan: the woman who fooled the churchA woman who allegedly was the head of the Catholic Church became one of the most controversial Middle Ages tales.7 May 2025HistoryThe secret WW2 magazine ridiculing Hitler\\'s motherHiding in an attic, Jewish man Curt Bloch found inspiration through crafting anti-Nazi parody.6 May 2025HistoryRome\\'s most stunning optical illusions revealedFrom the Malta Knights keyhole to a set of vanishing columns, discover the Eternal City\\'s\\xa0visual secrets.5 May 2025The SpeciaListSteven Isserlis: \\'I want to be a voice in their heads\\'In an intimate portrait, acclaimed cellist Steven Isserlis opens up about why he loves teaching young musicians.5 May 2025Arts in MotionWatch how rare sperm is found in IVF labWe go inside a New York City lab developing new tech to increase IVF success rates for patients.3 May 2025Tech NowJust how dangerous is space debris?In the past decade, the dramatic surge in satellite launches has left space cluttered with junk.2 May 2025Weather & scienceHow your \\'second brain\\' changes the way you thinkThe connection between our brain and gut has a profound effect on our wellbeing. We look at ways to improve it.1 May 2025Health DecodedMore7 hrs ago\\'You\\'re supposed to hate snakes - I don\\'t\\'Reports of human-snake encounters are on the rise – and some people react to a snake on their property by killing it. But is there a better way, for both people and the reptiles?7 hrs agoFuture23 hrs agoA shocking thriller about US pandemic divisionsDirector Ari Aster is once again set to shock with surreal, gory western Eddington, featuring Joaquin Phoenix and Pedro Pascal, which is premiering at the Cannes Film Festival.23 hrs agoCulture1 day agoThe world\\'s five happiest cities for 2025From biking in Copenhagen to lakeside baths in Zurich, locals reveal what makes the world\\'s happiest cities truly joyful – and how their design fosters wellbeing every day.1 day agoTravel1 day agoHow history\\'s brutal witch trials resonate nowA new book How to Kill a Witch brings a dark period of history back to grisly life – and an official tartan is being released to memorialise some of those who were tortured and killed.1 day agoCulture1 day agoThe space archaeologists saving cosmic historyThe infrastructure of humanity\\'s journey into space may only be decades old, but some of it has already been lost. Now, \"space archaeologists\" are scrambling to save what\\'s left.1 day agoFutureBritish Broadcasting CorporationHomeNewsSportBusinessInnovationCultureArtsTravelEarthAudioVideoLiveWeatherBBC ShopBritBoxBBC in other languagesFollow BBC on:Terms of UseAbout the BBCPrivacy PolicyCookiesAccessibility HelpContact the BBCAdvertise with usDo not share or sell my infoContact technical supportCopyright 2025 BBC. All rights reserved.\\xa0\\xa0The BBC is not responsible for the content of external sites.\\xa0Read about our approach to external linking.\\xa0')]"
      ]
     },
     "execution_count": 4,
     "metadata": {},
     "output_type": "execute_result"
    }
   ],
   "source": [
    "loader = WebBaseLoader(\"https://www.bbc.com/travel/article/20250516-monacos-new-neighbourhood-rising-out-of-the-sea\")\n",
    "loader.load()"
   ]
  },
  {
   "cell_type": "code",
   "execution_count": null,
   "id": "43e11ad8",
   "metadata": {},
   "outputs": [],
   "source": []
  }
 ],
 "metadata": {
  "kernelspec": {
   "display_name": "llms",
   "language": "python",
   "name": "python3"
  },
  "language_info": {
   "codemirror_mode": {
    "name": "ipython",
    "version": 3
   },
   "file_extension": ".py",
   "mimetype": "text/x-python",
   "name": "python",
   "nbconvert_exporter": "python",
   "pygments_lexer": "ipython3",
   "version": "3.11.12"
  }
 },
 "nbformat": 4,
 "nbformat_minor": 5
}
